{
 "cells": [
  {
   "cell_type": "code",
   "execution_count": null,
   "id": "60130976",
   "metadata": {},
   "outputs": [],
   "source": [
    "import numpy as np \n",
    "import pandas as pd\n",
    "import sympy as sym\n",
    "import matplotlib.pyplot as plt"
   ]
  },
  {
   "cell_type": "markdown",
   "id": "2e0455b4",
   "metadata": {},
   "source": [
    "#  **Resistors in series**"
   ]
  },
  {
   "cell_type": "markdown",
   "id": "621e3e4e",
   "metadata": {},
   "source": [
    "### objective: calculate the equivalent resistance of resistor connected in series"
   ]
  },
  {
   "attachments": {
    "unnamed.png": {
     "image/png": "[encoded data removed]"
    }
   },
   "cell_type": "markdown",
   "id": "b71fff4b",
   "metadata": {},
   "source": [
    "![unnamed.png](attachment:unnamed.png)"
   ]
  },
  {
   "cell_type": "markdown",
   "id": "626464f0",
   "metadata": {},
   "source": [
    "### Theory\n",
    "* A series circuit is a circuit in which resistors are arranged in a chain, so the current has only one path to take \n",
    "* It=I1=I2=I3=I... **(current is the same through each resistor)** \n",
    "* Vt=V1+V2+V3+V...\n",
    "* Rt=R1+R2+R3+R..."
   ]
  },
  {
   "cell_type": "markdown",
   "id": "9b7cf917",
   "metadata": {},
   "source": [
    "### Equipment:\n",
    "* Dc power supply\n",
    "* 2 digital multimeters\n",
    "* Breadboard \n",
    "* connecting wires\n",
    "* Rheostat\n",
    "* 2 Resistances"
   ]
  },
  {
   "cell_type": "markdown",
   "id": "e372d58f",
   "metadata": {},
   "source": [
    "### Experimental Procedure:\n",
    "* 1- Implement the circuit on the breadboard as shown in circuit diagram.\n",
    "* 2- Initially set the VDC supply to 0 V and note the current on ammeter.\n",
    "* 3- Increase the voltage to 1.2 V, observe the ammeter.\n",
    "* 4- Repeat the above step for 2 V, 3V ... 10 V.\n",
    "* 5- Record all these measurement in Table\n",
    "* 6- Plot a graph for measured readings.\n",
    "* 7- Use the multimeter to measure the equivalent resistance (Rs)\n",
    "* 8- 8. Compare the experimental value with theoretical value\n",
    "* 9- Determine the experimental percentage error of the resistance value."
   ]
  },
  {
   "cell_type": "markdown",
   "id": "8d7e28ef",
   "metadata": {},
   "source": [
    "### Data and data analysis"
   ]
  },
  {
   "cell_type": "markdown",
   "id": "ba7116a5",
   "metadata": {},
   "source": [
    "* calculate R=V/I for each pair of voltage current reading \n",
    "* compute the average pf your V/I value . this is one estimate for the equivalent resistance (Rs)"
   ]
  },
  {
   "cell_type": "code",
   "execution_count": null,
   "id": "697e822c",
   "metadata": {},
   "outputs": [],
   "source": [
    "data={\"V\":[0.1,0.2,0.3,0.6,0.7,0.8],'I':[0.5,1.1,1.6,3.2,3.8,4.4]}\n",
    "f= pd.DataFrame(data)\n",
    "f"
   ]
  },
  {
   "cell_type": "code",
   "execution_count": 3,
   "id": "aed97520",
   "metadata": {},
   "outputs": [
    {
     "data": {
      "text/html": [
       "<div>\n",
       "<style scoped>\n",
       "    .dataframe tbody tr th:only-of-type {\n",
       "        vertical-align: middle;\n",
       "    }\n",
       "\n",
       "    .dataframe tbody tr th {\n",
       "        vertical-align: top;\n",
       "    }\n",
       "\n",
       "    .dataframe thead th {\n",
       "        text-align: right;\n",
       "    }\n",
       "</style>\n",
       "<table border=\"1\" class=\"dataframe\">\n",
       "  <thead>\n",
       "    <tr style=\"text-align: right;\">\n",
       "      <th></th>\n",
       "      <th>V</th>\n",
       "      <th>I</th>\n",
       "      <th>R(Ω)</th>\n",
       "    </tr>\n",
       "  </thead>\n",
       "  <tbody>\n",
       "    <tr>\n",
       "      <th>0</th>\n",
       "      <td>0.1</td>\n",
       "      <td>0.5</td>\n",
       "      <td>200.0</td>\n",
       "    </tr>\n",
       "    <tr>\n",
       "      <th>1</th>\n",
       "      <td>0.2</td>\n",
       "      <td>1.1</td>\n",
       "      <td>182.0</td>\n",
       "    </tr>\n",
       "    <tr>\n",
       "      <th>2</th>\n",
       "      <td>0.3</td>\n",
       "      <td>1.6</td>\n",
       "      <td>188.0</td>\n",
       "    </tr>\n",
       "    <tr>\n",
       "      <th>3</th>\n",
       "      <td>0.6</td>\n",
       "      <td>3.2</td>\n",
       "      <td>188.0</td>\n",
       "    </tr>\n",
       "    <tr>\n",
       "      <th>4</th>\n",
       "      <td>0.7</td>\n",
       "      <td>3.8</td>\n",
       "      <td>184.0</td>\n",
       "    </tr>\n",
       "    <tr>\n",
       "      <th>5</th>\n",
       "      <td>0.8</td>\n",
       "      <td>4.4</td>\n",
       "      <td>182.0</td>\n",
       "    </tr>\n",
       "  </tbody>\n",
       "</table>\n",
       "</div>"
      ],
      "text/plain": [
       "     V    I   R(Ω)\n",
       "0  0.1  0.5  200.0\n",
       "1  0.2  1.1  182.0\n",
       "2  0.3  1.6  188.0\n",
       "3  0.6  3.2  188.0\n",
       "4  0.7  3.8  184.0\n",
       "5  0.8  4.4  182.0"
      ]
     },
     "execution_count": 3,
     "metadata": {},
     "output_type": "execute_result"
    }
   ],
   "source": [
    "R= lambda V,I:(V*1000)/I\n",
    "f['R(Ω)'] = round (R(f.V ,f.I))\n",
    "f"
   ]
  },
  {
   "cell_type": "code",
   "execution_count": 4,
   "id": "b3435eff",
   "metadata": {
    "scrolled": true
   },
   "outputs": [
    {
     "data": {
      "image/png": "[encoded data removed]",
      "text/plain": [
       "<Figure size 432x288 with 1 Axes>"
      ]
     },
     "metadata": {
      "needs_background": "light"
     },
     "output_type": "display_data"
    }
   ],
   "source": [
    "x = np.array ([0.1 , 0.2 , 0.3 , 0.6 , 0.7 , 0.8])\n",
    "\n",
    "y = np.array([0.5 , 1.1 , 1.6 , 3.2 , 3.8 , 4.4])\n",
    "fig=plt.figure()\n",
    "plt.plot(x,y)\n",
    "\n",
    "plt.xlabel(\"V(v)\")\n",
    "plt.ylabel(\"I(A)\")\n",
    "\n",
    "plt.title(\"Resistors in Series\")\n",
    "plt.savefig('my_figure.png')\n",
    "plt.show()"
   ]
  },
  {
   "cell_type": "code",
   "execution_count": 5,
   "id": "1dfba6b9",
   "metadata": {},
   "outputs": [
    {
     "name": "stdout",
     "output_type": "stream",
     "text": [
      "the slope is: 166.66666666666666 Ω\n"
     ]
    }
   ],
   "source": [
    "x1=0.5*10**-3\n",
    "x2=1.1*10**-3\n",
    "y1=0.1\n",
    "y2=0.2\n",
    "slope=((y2-y1)/(x2-x1))\n",
    "print(\"the slope is:\",slope,\"Ω\")"
   ]
  },
  {
   "cell_type": "code",
   "execution_count": 6,
   "id": "e8d46eeb",
   "metadata": {},
   "outputs": [
    {
     "name": "stdout",
     "output_type": "stream",
     "text": [
      "the experimental percentage error of the resistance value is: 200 Ω\n"
     ]
    }
   ],
   "source": [
    "R1=100\n",
    "R2=100\n",
    "Rs=R1+R2\n",
    "print(\"the experimental percentage error of the resistance value is:\",Rs,\"Ω\")"
   ]
  },
  {
   "cell_type": "code",
   "execution_count": null,
   "id": "85ecf779",
   "metadata": {},
   "outputs": [],
   "source": []
  },
  {
   "cell_type": "code",
   "execution_count": 7,
   "id": "e2652fcb",
   "metadata": {},
   "outputs": [],
   "source": [
    "# Evaluate the partial derivatives:  (df/(dx ) and  df/y) \n",
    "# f(x,y)=y^2 cos(x)-x^3ln(y)"
   ]
  },
  {
   "cell_type": "code",
   "execution_count": 8,
   "id": "ee9c6e15",
   "metadata": {},
   "outputs": [
    {
     "name": "stdout",
     "output_type": "stream",
     "text": [
      "-3*x**2*log(y) - y**2*sin(x)\n",
      "-x**3/y + 2*y*cos(x)\n"
     ]
    }
   ],
   "source": [
    "import sympy as sym\n",
    "from sympy import symbols\n",
    "x= symbols ('x')\n",
    "y= symbols ('y')\n",
    "f=y**2*sym.cos(x)-x**3*sym.ln(y)\n",
    "df_dx = f.diff (x)\n",
    "df_dy = f.diff (y)\n",
    "print (df_dx)\n",
    "print (df_dy)"
   ]
  },
  {
   "cell_type": "code",
   "execution_count": 9,
   "id": "41b8cda2",
   "metadata": {},
   "outputs": [
    {
     "name": "stdout",
     "output_type": "stream",
     "text": [
      "df/dx=  -3*x**2*log(y) - y**2*sin(x)\n",
      "df/dy = -x**3/y + 2*y*cos(x)\n"
     ]
    }
   ],
   "source": [
    "print ('df/dx= ', f.diff(x))\n",
    "print ('df/dy =' , f.diff (y))"
   ]
  }
 ],
 "metadata": {
  "kernelspec": {
   "display_name": "Python 3 (ipykernel)",
   "language": "python",
   "name": "python3"
  },
  "language_info": {
   "codemirror_mode": {
    "name": "ipython",
    "version": 3
   },
   "file_extension": ".py",
   "mimetype": "text/x-python",
   "name": "python",
   "nbconvert_exporter": "python",
   "pygments_lexer": "ipython3",
   "version": "3.9.8+"
  }
 },
 "nbformat": 4,
 "nbformat_minor": 5
}
